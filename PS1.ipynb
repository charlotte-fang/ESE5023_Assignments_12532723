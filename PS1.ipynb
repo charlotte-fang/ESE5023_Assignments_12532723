{
 "cells": [
  {
   "cell_type": "markdown",
   "id": "b01b0604-fb73-40a0-8de5-3e491ebce6dd",
   "metadata": {},
   "source": [
    " 1、Flowchart，When the input values are a = 5, b = 15, c = 10, the output is empty."
   ]
  },
  {
   "cell_type": "code",
   "execution_count": 3,
   "id": "f78bde01-17d9-4c07-a1a8-bdb8e0999c65",
   "metadata": {
    "jupyter": {
     "source_hidden": true
    },
    "scrolled": true
   },
   "outputs": [
    {
     "name": "stdin",
     "output_type": "stream",
     "text": [
      "input number1: 15\n",
      "input number2: 5\n",
      "input number3: 10\n"
     ]
    },
    {
     "name": "stdout",
     "output_type": "stream",
     "text": [
      "-25.0\n"
     ]
    }
   ],
   "source": [
    "def Print_values(a,b,c):\n",
    "    if a>b:\n",
    "        if b>c:\n",
    "            print(a+b-10*c)\n",
    "        else:\n",
    "            if a>c:\n",
    "                print(a+c-10*b)\n",
    "            else:\n",
    "                print(c+a-10*b)\n",
    "    else:\n",
    "        if b>c:\n",
    "            pass\n",
    "        else:\n",
    "            print(c+b-10*a)\n",
    "\n",
    "a=float(input(\"input number1:\"))\n",
    "b=float(input(\"input number2:\"))\n",
    "c=float(input(\"input number3:\"))\n",
    "Print_values(a,b,c)\n"
   ]
  },
  {
   "cell_type": "markdown",
   "id": "94f59e8b-e94c-412e-8f06-aeecf2e95167",
   "metadata": {},
   "source": [
    " 2、Continuous celing function"
   ]
  },
  {
   "cell_type": "code",
   "execution_count": 6,
   "id": "6191e3d3-49af-4355-87a4-c40d9ee46198",
   "metadata": {
    "scrolled": true
   },
   "outputs": [
    {
     "name": "stdout",
     "output_type": "stream",
     "text": [
      "[71, 2, 86, 16, 52, 61, 5, 44, 81, 22, 28, 32, 19, 78, 41]\n",
      "[166, 5, 201, 38, 122, 143, 12, 103, 189, 52, 66, 75, 45, 182, 96]\n"
     ]
    }
   ],
   "source": [
    "def continuous_ceil(list_int):\n",
    "    import math\n",
    "    list_ceil=[]\n",
    "    for i in list_int:\n",
    "        if i==1:\n",
    "            list_ceil.append(1)\n",
    "        else:\n",
    "            ceil_number=math.ceil(i/3)+2*i\n",
    "            list_ceil.append(ceil_number)\n",
    "    print(list_ceil)\n",
    "\n",
    "import random\n",
    "list_int=random.sample(range(1,101),15)\n",
    "print (list_int)\n",
    "continuous_ceil(list_int)\n",
    "        "
   ]
  },
  {
   "cell_type": "markdown",
   "id": "6b0c2007-62c9-4bad-8f50-775fb655b1f3",
   "metadata": {},
   "source": [
    "3、 Dice rolling， the number is 35."
   ]
  },
  {
   "cell_type": "code",
   "execution_count": 20,
   "id": "1b04f8d1-397d-40a5-99a1-598d672cdcce",
   "metadata": {
    "collapsed": true,
    "jupyter": {
     "outputs_hidden": true
    },
    "scrolled": true
   },
   "outputs": [
    {
     "name": "stdout",
     "output_type": "stream",
     "text": [
      "点数和 35 有最多的方式数: 4395456\n"
     ]
    }
   ],
   "source": [
    "def Find_number_of_ways(x):\n",
    "    if x < 10 or x > 60:\n",
    "        print('This number is out of range！')\n",
    "        return 0\n",
    "    dice = [[0] * (x + 1) for _ in range(11)] # create a 2D list，11 lines and x+1 coloumns\n",
    "    dice[0][0] = 1\n",
    "    for i in range(1, 11): \n",
    "        for j in range(1, x + 1): \n",
    "            for k in range(1, 7): \n",
    "                if j - k >= 0:\n",
    "                    dice[i][j] += dice[i-1][j-k]\n",
    "    return dice[10][x]\n",
    "\n",
    "Number_of_ways = [Find_number_of_ways(x) for x in range(10, 61)]\n",
    "max_ways = max(Number_of_ways)\n",
    "max_sum = Number_of_ways.index(max_ways) + 10\n",
    "\n",
    "print(f\"点数和 {max_sum} 有最多的方式数: {max_ways}\")\n",
    "    "
   ]
  },
  {
   "cell_type": "markdown",
   "id": "09425345-6ff4-4df1-aff0-c326c6ac8f08",
   "metadata": {},
   "source": [
    "4、 Dynamic programming"
   ]
  },
  {
   "cell_type": "code",
   "execution_count": 5,
   "id": "56ba1e5a-5521-41b1-a20a-4dd28c3a3851",
   "metadata": {
    "scrolled": true
   },
   "outputs": [
    {
     "data": {
      "image/png": "[encoded data removed]",
      "text/plain": [
       "<Figure size 1000x600 with 1 Axes>"
      ]
     },
     "metadata": {},
     "output_type": "display_data"
    }
   ],
   "source": [
    "def Random_integer(number):\n",
    "    import random\n",
    "    list_integer=[]\n",
    "    for i in range(number):\n",
    "        list_integer.append(random.randint(0,10))\n",
    "    return list_integer\n",
    "\n",
    "def Sum_averages(input_list):\n",
    "    import numpy as np\n",
    "    n = len(input_list)\n",
    "    dp_sum = np.zeros(n + 1)\n",
    "    dp_count = np.zeros(n + 1)\n",
    "    dp_sum[0] = 0\n",
    "    dp_count[0] = 1 \n",
    "    for x in input_list:\n",
    "        new_sum = dp_sum.copy()\n",
    "        new_count = dp_count.copy()\n",
    "        for k in range(1, n + 1):\n",
    "            new_sum[k] += dp_sum[k - 1] + x * dp_count[k - 1]\n",
    "            new_count[k] += dp_count[k - 1]\n",
    "        dp_sum, dp_count = new_sum, new_count\n",
    "    total = sum(dp_sum[k] / k for k in range(1, n + 1))\n",
    "    return total\n",
    "\n",
    "Total_sum_averages = []\n",
    "N_values = list(range(1, 101))\n",
    "for N in N_values:\n",
    "    list_int = Random_integer(N)\n",
    "    average = Sum_averages(list_int)\n",
    "    Total_sum_averages.append(average)\n",
    "    \n",
    "import matplotlib.pyplot as plt\n",
    "import matplotlib.ticker as mticker\n",
    "plt.figure(figsize=(10, 6))\n",
    "plt.plot(N_values, Total_sum_averages, 'b-', linewidth=2)\n",
    "plt.xlabel('N')\n",
    "plt.ylabel('Sum of Averages of All Subsets')\n",
    "plt.gca().yaxis.set_major_formatter(mticker.ScalarFormatter(useMathText=True))\n",
    "plt.ticklabel_format(style='sci', axis='y', scilimits=(0,0))\n",
    "plt.grid(True, alpha=0.3)\n",
    "plt.tight_layout()\n",
    "plt.show()\n",
    "        \n",
    "        "
   ]
  },
  {
   "cell_type": "markdown",
   "id": "4a11e9e6-7e24-4b59-a8da-a7e1613aea47",
   "metadata": {},
   "source": [
    "5、Path counting"
   ]
  },
  {
   "cell_type": "code",
   "execution_count": 1,
   "id": "975168fe-d133-425e-b127-fa87127f0b2f",
   "metadata": {},
   "outputs": [
    {
     "name": "stdout",
     "output_type": "stream",
     "text": [
      "[[1 0 1 0 1]\n",
      " [0 0 1 1 0]\n",
      " [0 0 0 0 1]\n",
      " [0 1 0 1 1]\n",
      " [0 1 0 0 1]]\n",
      "平均路径数量: 0.4410\n"
     ]
    }
   ],
   "source": [
    "import numpy as np\n",
    "import random\n",
    "\n",
    "def create_matrix(N, M):\n",
    "    matrix = np.random.randint(0, 2, (N, M))\n",
    "    matrix[0, 0] = 1\n",
    "    matrix[N-1, M-1] = 1\n",
    "    return matrix\n",
    "    \n",
    "matrix = create_matrix(5,5) # question 5.1 test\n",
    "print(matrix)\n",
    "\n",
    "def Count_path(matrix):\n",
    "    n, m = matrix.shape\n",
    "    dp = np.zeros((n, m), dtype=int)\n",
    "    if matrix[0, 0] == 1:\n",
    "        dp[0, 0] = 1\n",
    "    for i in range(1, n):\n",
    "        if matrix[i, 0] == 1:\n",
    "            dp[i, 0] = dp[i-1, 0]  \n",
    "    for j in range(1, m):\n",
    "        if matrix[0, j] == 1:\n",
    "            dp[0, j] = dp[0, j-1]\n",
    "    for i in range(1, n):\n",
    "        for j in range(1, m):\n",
    "            if matrix[i, j] == 1:\n",
    "                dp[i, j] = dp[i-1, j] + dp[i, j-1]\n",
    "    return dp[n-1, m-1]\n",
    "\n",
    "num_runs = 1000\n",
    "path_counts = []\n",
    "for i in range(num_runs):\n",
    "    matrix = create_matrix(10, 8)\n",
    "    path_count = Count_path(matrix)\n",
    "    path_counts.append(path_count)\n",
    "mean_paths = np.mean(path_counts)\n",
    "print(f\"平均路径数量: {mean_paths:.4f}\")\n"
   ]
  },
  {
   "cell_type": "code",
   "execution_count": null,
   "id": "c1512e4a-19c9-46e5-a562-798ed8630a31",
   "metadata": {},
   "outputs": [],
   "source": []
  }
 ],
 "metadata": {
  "kernelspec": {
   "display_name": "Python [conda env:base] *",
   "language": "python",
   "name": "conda-base-py"
  },
  "language_info": {
   "codemirror_mode": {
    "name": "ipython",
    "version": 3
   },
   "file_extension": ".py",
   "mimetype": "text/x-python",
   "name": "python",
   "nbconvert_exporter": "python",
   "pygments_lexer": "ipython3",
   "version": "3.13.5"
  }
 },
 "nbformat": 4,
 "nbformat_minor": 5
}
